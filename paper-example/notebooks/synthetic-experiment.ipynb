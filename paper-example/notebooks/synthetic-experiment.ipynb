{
 "cells": [
  {
   "cell_type": "markdown",
   "id": "654987ac",
   "metadata": {},
   "source": [
    "# Synthetic experiments\n",
    "\n",
    "This notebook contains code to reproduce the synthetic experiments found in our paper. \n",
    "We include examples for the RBF and spectral mixture kernel with 4 components. Running these examples back to back will probably lead to OOM errors due to TF memory issues. As mentioned in the README, there might be some variance in the results compared to those in the paper."
   ]
  },
  {
   "cell_type": "code",
   "execution_count": 5,
   "id": "7e2b0eeb",
   "metadata": {},
   "outputs": [],
   "source": [
    "import os\n",
    "import json\n",
    "import numpy as np\n",
    "import sys\n",
    "parent_directory = os.path.abspath('..')\n",
    "sys.path.append(parent_directory)\n",
    "from cpgp.metrics import f_measure\n",
    "from cpgp.segcpgp import SegCPGP\n",
    "from tqdm import tqdm\n",
    "\n",
    "import pandas as pd\n",
    "\n",
    "with open(parent_directory+\"/data/annotations.json\") as f:\n",
    "    annotations = json.load(f)"
   ]
  },
  {
   "cell_type": "code",
   "execution_count": null,
   "id": "fb53a1c5",
   "metadata": {},
   "outputs": [
    {
     "name": "stderr",
     "output_type": "stream",
     "text": [
      " 52%|█████▎    | 21/40 [05:40<04:58, 15.73s/it]"
     ]
    }
   ],
   "source": [
    "results = {}\n",
    "for d in tqdm(os.listdir(parent_directory+\"/data/synthetic\")):   # For each of the synthetic datasets...\n",
    "    data = np.load(parent_directory+f\"/data/synthetic/{d}\")\n",
    "    X, y = data[\"X\"], data[\"y\"]\n",
    "    \n",
    "    # Fit SegCPGP\n",
    "    segcpgp = SegCPGP()\n",
    "    segcpgp.fit(X, y, base_kernel_name=\"rbf\", verbose=False)\n",
    "    \n",
    "    # Analysis\n",
    "    locs = [l[0] for l in segcpgp.LOCS]\n",
    "    fscore = f_measure({0: [100, 200, 300]}, locs)\n",
    "    results[d] = fscore"
   ]
  },
  {
   "cell_type": "markdown",
   "id": "3a10529d",
   "metadata": {},
   "source": [
    "Compute results; group results by type via the synthetic-keys.csv file and take the mean of the results."
   ]
  },
  {
   "cell_type": "code",
   "execution_count": null,
   "id": "ffc30b0f",
   "metadata": {},
   "outputs": [
    {
     "ename": "NameError",
     "evalue": "name 'results' is not defined",
     "output_type": "error",
     "traceback": [
      "\u001b[0;31m---------------------------------------------------------------------------\u001b[0m",
      "\u001b[0;31mNameError\u001b[0m                                 Traceback (most recent call last)",
      "Cell \u001b[0;32mIn[4], line 2\u001b[0m\n\u001b[1;32m      1\u001b[0m \u001b[38;5;66;03m# Compute results; group results by type via the synthetic-keys file and take the mean of the results.\u001b[39;00m\n\u001b[0;32m----> 2\u001b[0m rdf \u001b[38;5;241m=\u001b[39m pd\u001b[38;5;241m.\u001b[39mDataFrame(\u001b[43mresults\u001b[49m\u001b[38;5;241m.\u001b[39mitems())\n\u001b[1;32m      3\u001b[0m keys \u001b[38;5;241m=\u001b[39m pd\u001b[38;5;241m.\u001b[39mread_csv(parent_directory\u001b[38;5;241m+\u001b[39m\u001b[38;5;124m\"\u001b[39m\u001b[38;5;124m/data/synthetic-keys.csv\u001b[39m\u001b[38;5;124m\"\u001b[39m)\n\u001b[1;32m      4\u001b[0m rdf[\u001b[38;5;124m\"\u001b[39m\u001b[38;5;124mIdentifier\u001b[39m\u001b[38;5;124m\"\u001b[39m] \u001b[38;5;241m=\u001b[39m rdf[\u001b[38;5;241m0\u001b[39m]\u001b[38;5;241m.\u001b[39mapply(\u001b[38;5;28;01mlambda\u001b[39;00m s: s\u001b[38;5;241m.\u001b[39msplit(\u001b[38;5;124m\"\u001b[39m\u001b[38;5;124m.\u001b[39m\u001b[38;5;124m\"\u001b[39m)[\u001b[38;5;241m0\u001b[39m])\n",
      "\u001b[0;31mNameError\u001b[0m: name 'results' is not defined"
     ]
    }
   ],
   "source": [
    "rdf = pd.DataFrame(results.items())\n",
    "keys = pd.read_csv(parent_directory+\"/data/synthetic-keys.csv\")\n",
    "rdf[\"Identifier\"] = rdf[0].apply(lambda s: s.split(\".\")[0])\n",
    "df = keys.merge(rdf, on=\"Identifier\", how=\"outer\")\n",
    "df.groupby(\"Category\").mean(numeric_only=True)\n"
   ]
  },
  {
   "cell_type": "code",
   "execution_count": null,
   "id": "3314db46",
   "metadata": {},
   "outputs": [
    {
     "ename": "FileNotFoundError",
     "evalue": "[Errno 2] No such file or directory: 'data/synthetic'",
     "output_type": "error",
     "traceback": [
      "\u001b[0;31m---------------------------------------------------------------------------\u001b[0m",
      "\u001b[0;31mFileNotFoundError\u001b[0m                         Traceback (most recent call last)",
      "Cell \u001b[0;32mIn[5], line 2\u001b[0m\n\u001b[1;32m      1\u001b[0m results \u001b[38;5;241m=\u001b[39m {}\n\u001b[0;32m----> 2\u001b[0m \u001b[38;5;28;01mfor\u001b[39;00m d \u001b[38;5;129;01min\u001b[39;00m tqdm(\u001b[43mos\u001b[49m\u001b[38;5;241;43m.\u001b[39;49m\u001b[43mlistdir\u001b[49m\u001b[43m(\u001b[49m\u001b[38;5;124;43m\"\u001b[39;49m\u001b[38;5;124;43mdata/synthetic\u001b[39;49m\u001b[38;5;124;43m\"\u001b[39;49m\u001b[43m)\u001b[49m):\n\u001b[1;32m      3\u001b[0m     data \u001b[38;5;241m=\u001b[39m np\u001b[38;5;241m.\u001b[39mload(\u001b[38;5;124mf\u001b[39m\u001b[38;5;124m\"\u001b[39m\u001b[38;5;124mdata/synthetic/\u001b[39m\u001b[38;5;132;01m{\u001b[39;00md\u001b[38;5;132;01m}\u001b[39;00m\u001b[38;5;124m\"\u001b[39m)\n\u001b[1;32m      4\u001b[0m     X, y \u001b[38;5;241m=\u001b[39m data[\u001b[38;5;124m\"\u001b[39m\u001b[38;5;124mX\u001b[39m\u001b[38;5;124m\"\u001b[39m], data[\u001b[38;5;124m\"\u001b[39m\u001b[38;5;124my\u001b[39m\u001b[38;5;124m\"\u001b[39m]\n",
      "\u001b[0;31mFileNotFoundError\u001b[0m: [Errno 2] No such file or directory: 'data/synthetic'"
     ]
    }
   ],
   "source": [
    "results = {}\n",
    "for d in tqdm(os.listdir(parent_directory+\"/data/synthetic\")):   # For each of the synthetic datasets...\n",
    "    data = np.load(parent_directory+f\"data/synthetic/{d}\")\n",
    "    X, y = data[\"X\"], data[\"y\"]\n",
    "    \n",
    "    # Fit SegCPGP\n",
    "    segcpgp = SegCPGP()\n",
    "    segcpgp.fit(X, y, base_kernel_name=\"spectral-4\", verbose=False)\n",
    "    \n",
    "    # Analysis\n",
    "    locs = [l[0] for l in segcpgp.LOCS]\n",
    "    fscore = f_measure({0: [100, 200, 300]}, locs)\n",
    "    results[d] = fscore"
   ]
  },
  {
   "cell_type": "code",
   "execution_count": null,
   "id": "a9e38569",
   "metadata": {},
   "outputs": [],
   "source": []
  }
 ],
 "metadata": {
  "kernelspec": {
   "display_name": "Python 3",
   "language": "python",
   "name": "python3"
  },
  "language_info": {
   "codemirror_mode": {
    "name": "ipython",
    "version": 3
   },
   "file_extension": ".py",
   "mimetype": "text/x-python",
   "name": "python",
   "nbconvert_exporter": "python",
   "pygments_lexer": "ipython3",
   "version": "3.11.8"
  }
 },
 "nbformat": 4,
 "nbformat_minor": 5
}
