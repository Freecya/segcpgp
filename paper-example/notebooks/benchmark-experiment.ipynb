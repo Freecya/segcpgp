{
 "cells": [
  {
   "cell_type": "markdown",
   "id": "2b717bf3",
   "metadata": {},
   "source": [
    "# Benchmark experiments\n",
    "This notebook contains code to run SegCPGP-RBF and SegCPGP-SM4 on selected datasets from the [TCPD Benchmark](https://github.com/alan-turing-institute/TCPDBench). The datasets are GDP-Argentina, GDP-Iran, GDP-Japan, Ozone, and Business Inventories."
   ]
  },
  {
   "cell_type": "code",
   "execution_count": 7,
   "id": "7e2b0eeb",
   "metadata": {},
   "outputs": [],
   "source": [
    "import os\n",
    "import json\n",
    "import numpy as np\n",
    "import sys\n",
    "parent_directory = os.path.abspath('..')\n",
    "sys.path.append(parent_directory)\n",
    "from cpgp.metrics import f_measure\n",
    "from cpgp.segcpgp import SegCPGP\n",
    "from tqdm import tqdm\n",
    "\n",
    "import pandas as pd\n",
    "\n",
    "with open(parent_directory+\"/data/annotations.json\") as f:\n",
    "    annotations = json.load(f)"
   ]
  },
  {
   "cell_type": "code",
   "execution_count": null,
   "id": "fb53a1c5",
   "metadata": {},
   "outputs": [
    {
     "name": "stderr",
     "output_type": "stream",
     "text": [
      "100%|██████████| 5/5 [00:15<00:00,  3.19s/it]"
     ]
    },
    {
     "name": "stdout",
     "output_type": "stream",
     "text": [
      "{'businv.json': 0.5882352941176471, 'gdp_argentina.json': 0.8235294117647058, 'gdp_iran.json': 0.651685393258427, 'gdp_japan.json': 0.6153846153846154, 'ozone.json': 0.723404255319149}\n"
     ]
    },
    {
     "name": "stderr",
     "output_type": "stream",
     "text": [
      "\n"
     ]
    }
   ],
   "source": [
    "results = {}\n",
    "for d in tqdm(os.listdir(\"data/benchmark\")):\n",
    "    dataset_name = d.split(\".\")[0]\n",
    "    with open(f\"data/benchmark/{d}\") as f:\n",
    "        data = json.load(f)\n",
    "    X = np.array(data[\"time\"][\"index\"]).reshape(-1, 1).astype(np.float64)\n",
    "    y = np.array(data[\"series\"][0][\"raw\"]).reshape(-1, 1).astype(np.float64)\n",
    "    segcpgp = SegCPGP()\n",
    "    segcpgp.fit(X, y, base_kernel_name=\"rbf\", verbose=False)\n",
    "    \n",
    "    # Compute F-score\n",
    "    locs = [l[0] for l in segcpgp.LOCS]\n",
    "    fscore = f_measure(annotations[dataset_name], locs)\n",
    "    results[d] = fscore\n",
    "    \n",
    "print(results)"
   ]
  },
  {
   "cell_type": "code",
   "execution_count": null,
   "id": "ffc30b0f",
   "metadata": {},
   "outputs": [
    {
     "name": "stderr",
     "output_type": "stream",
     "text": [
      "100%|██████████| 5/5 [00:45<00:00,  9.13s/it]"
     ]
    },
    {
     "name": "stdout",
     "output_type": "stream",
     "text": [
      "{'businv.json': 0.5882352941176471, 'gdp_argentina.json': 0.8235294117647058, 'gdp_iran.json': 0.651685393258427, 'gdp_japan.json': 0.888888888888889, 'ozone.json': 0.723404255319149}\n"
     ]
    },
    {
     "name": "stderr",
     "output_type": "stream",
     "text": [
      "\n"
     ]
    }
   ],
   "source": [
    "results = {}\n",
    "for d in tqdm(os.listdir(\"data/benchmark\")):\n",
    "    dataset_name = d.split(\".\")[0]\n",
    "    with open(f\"data/benchmark/{d}\") as f:\n",
    "        data = json.load(f)\n",
    "    X = np.array(data[\"time\"][\"index\"]).reshape(-1, 1).astype(np.float64)\n",
    "    y = np.array(data[\"series\"][0][\"raw\"]).reshape(-1, 1).astype(np.float64)\n",
    "    segcpgp = SegCPGP()\n",
    "    segcpgp.fit(X, y, base_kernel_name=\"spectral-4\", verbose=False)\n",
    "    \n",
    "    # Compute F-score\n",
    "    locs = [l[0] for l in segcpgp.LOCS]\n",
    "    fscore = f_measure(annotations[dataset_name], locs)\n",
    "    results[d] = fscore\n",
    "    \n",
    "print(results)"
   ]
  },
  {
   "cell_type": "code",
   "execution_count": null,
   "id": "9869852f",
   "metadata": {},
   "outputs": [],
   "source": []
  },
  {
   "cell_type": "code",
   "execution_count": null,
   "id": "43b3debc",
   "metadata": {},
   "outputs": [],
   "source": []
  }
 ],
 "metadata": {
  "kernelspec": {
   "display_name": "Python 3",
   "language": "python",
   "name": "python3"
  },
  "language_info": {
   "codemirror_mode": {
    "name": "ipython",
    "version": 3
   },
   "file_extension": ".py",
   "mimetype": "text/x-python",
   "name": "python",
   "nbconvert_exporter": "python",
   "pygments_lexer": "ipython3",
   "version": "3.11.8"
  }
 },
 "nbformat": 4,
 "nbformat_minor": 5
}
