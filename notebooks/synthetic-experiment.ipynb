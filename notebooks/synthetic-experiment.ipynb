{
 "cells": [
  {
   "cell_type": "markdown",
   "id": "654987ac",
   "metadata": {},
   "source": [
    "# Synthetic experiments\n",
    "\n",
    "This notebook contains code to reproduce the synthetic experiments found in our paper. \n",
    "We include examples for the RBF and spectral mixture kernel with 4 components. Running these examples back to back will probably lead to OOM errors due to TF memory issues. As mentioned in the README, there might be some variance in the results compared to those in the paper."
   ]
  },
  {
   "cell_type": "code",
   "execution_count": 1,
   "id": "7e2b0eeb",
   "metadata": {},
   "outputs": [
    {
     "name": "stderr",
     "output_type": "stream",
     "text": [
      "2025-06-10 15:54:54.868873: I tensorflow/core/util/port.cc:113] oneDNN custom operations are on. You may see slightly different numerical results due to floating-point round-off errors from different computation orders. To turn them off, set the environment variable `TF_ENABLE_ONEDNN_OPTS=0`.\n",
      "2025-06-10 15:54:54.925805: I external/local_tsl/tsl/cuda/cudart_stub.cc:31] Could not find cuda drivers on your machine, GPU will not be used.\n",
      "2025-06-10 15:54:55.063346: E external/local_xla/xla/stream_executor/cuda/cuda_dnn.cc:9261] Unable to register cuDNN factory: Attempting to register factory for plugin cuDNN when one has already been registered\n",
      "2025-06-10 15:54:55.063403: E external/local_xla/xla/stream_executor/cuda/cuda_fft.cc:607] Unable to register cuFFT factory: Attempting to register factory for plugin cuFFT when one has already been registered\n",
      "2025-06-10 15:54:55.075420: E external/local_xla/xla/stream_executor/cuda/cuda_blas.cc:1515] Unable to register cuBLAS factory: Attempting to register factory for plugin cuBLAS when one has already been registered\n",
      "2025-06-10 15:54:55.103802: I external/local_tsl/tsl/cuda/cudart_stub.cc:31] Could not find cuda drivers on your machine, GPU will not be used.\n",
      "2025-06-10 15:54:55.104295: I tensorflow/core/platform/cpu_feature_guard.cc:182] This TensorFlow binary is optimized to use available CPU instructions in performance-critical operations.\n",
      "To enable the following instructions: AVX2 AVX512F AVX512_VNNI AVX512_BF16 FMA, in other operations, rebuild TensorFlow with the appropriate compiler flags.\n",
      "2025-06-10 15:54:56.093686: W tensorflow/compiler/tf2tensorrt/utils/py_utils.cc:38] TF-TRT Warning: Could not find TensorRT\n"
     ]
    }
   ],
   "source": [
    "import os\n",
    "import json\n",
    "import numpy as np\n",
    "import tensorflow as tf\n",
    "import sys\n",
    "parent_directory = os.path.abspath('..')\n",
    "sys.path.append(parent_directory)\n",
    "from cpgp.metrics import f_measure\n",
    "from cpgp.segcpgp import SegCPGP\n",
    "from tqdm import tqdm\n",
    "\n",
    "import pandas as pd\n",
    "\n",
    "with open(parent_directory+\"/data/annotations.json\") as f:\n",
    "    annotations = json.load(f)"
   ]
  },
  {
   "cell_type": "code",
   "execution_count": 2,
   "id": "fb53a1c5",
   "metadata": {},
   "outputs": [
    {
     "name": "stderr",
     "output_type": "stream",
     "text": [
      "100%|██████████| 40/40 [12:33<00:00, 18.85s/it]\n"
     ]
    }
   ],
   "source": [
    "results = {}\n",
    "for d in tqdm(os.listdir(parent_directory+\"/data/synthetic\")):   # For each of the synthetic datasets...\n",
    "    data = np.load(parent_directory+f\"/data/synthetic/{d}\")\n",
    "    X, y = data[\"X\"], data[\"y\"]\n",
    "    \n",
    "    # Fit SegCPGP\n",
    "    segcpgp = SegCPGP()\n",
    "    segcpgp.fit(X, y, base_kernel_name=\"rbf\", verbose=False)\n",
    "    \n",
    "    # Analysis\n",
    "    locs = [l[0] for l in segcpgp.LOCS]\n",
    "    fscore = f_measure({0: [100, 200, 300]}, locs)\n",
    "    results[d] = fscore \n",
    "    tf.keras.backend.clear_session()   # Necessary to prevent memory leak. "
   ]
  },
  {
   "cell_type": "markdown",
   "id": "3a10529d",
   "metadata": {},
   "source": [
    "Compute results; group results by type via the synthetic-keys.csv file and take the mean of the results."
   ]
  },
  {
   "cell_type": "code",
   "execution_count": 3,
   "id": "ffc30b0f",
   "metadata": {},
   "outputs": [
    {
     "data": {
      "text/html": [
       "<div>\n",
       "<style scoped>\n",
       "    .dataframe tbody tr th:only-of-type {\n",
       "        vertical-align: middle;\n",
       "    }\n",
       "\n",
       "    .dataframe tbody tr th {\n",
       "        vertical-align: top;\n",
       "    }\n",
       "\n",
       "    .dataframe thead th {\n",
       "        text-align: right;\n",
       "    }\n",
       "</style>\n",
       "<table border=\"1\" class=\"dataframe\">\n",
       "  <thead>\n",
       "    <tr style=\"text-align: right;\">\n",
       "      <th></th>\n",
       "      <th>1</th>\n",
       "    </tr>\n",
       "    <tr>\n",
       "      <th>Category</th>\n",
       "      <th></th>\n",
       "    </tr>\n",
       "  </thead>\n",
       "  <tbody>\n",
       "    <tr>\n",
       "      <th>mean</th>\n",
       "      <td>0.880664</td>\n",
       "    </tr>\n",
       "    <tr>\n",
       "      <th>periodicity-stable-mean</th>\n",
       "      <td>0.740317</td>\n",
       "    </tr>\n",
       "    <tr>\n",
       "      <th>trend</th>\n",
       "      <td>0.664524</td>\n",
       "    </tr>\n",
       "    <tr>\n",
       "      <th>variance</th>\n",
       "      <td>0.548624</td>\n",
       "    </tr>\n",
       "  </tbody>\n",
       "</table>\n",
       "</div>"
      ],
      "text/plain": [
       "                                1\n",
       "Category                         \n",
       "mean                     0.880664\n",
       "periodicity-stable-mean  0.740317\n",
       "trend                    0.664524\n",
       "variance                 0.548624"
      ]
     },
     "execution_count": 3,
     "metadata": {},
     "output_type": "execute_result"
    }
   ],
   "source": [
    "rdf = pd.DataFrame(results.items())\n",
    "keys = pd.read_csv(parent_directory+\"/data/synthetic-keys.csv\")\n",
    "rdf[\"Identifier\"] = rdf[0].apply(lambda s: s.split(\".\")[0])\n",
    "df = keys.merge(rdf, on=\"Identifier\", how=\"outer\")\n",
    "df.groupby(\"Category\").mean(numeric_only=True)\n"
   ]
  },
  {
   "cell_type": "code",
   "execution_count": null,
   "id": "ebf2816a",
   "metadata": {},
   "outputs": [],
   "source": []
  }
 ],
 "metadata": {
  "kernelspec": {
   "display_name": "Python 3",
   "language": "python",
   "name": "python3"
  },
  "language_info": {
   "codemirror_mode": {
    "name": "ipython",
    "version": 3
   },
   "file_extension": ".py",
   "mimetype": "text/x-python",
   "name": "python",
   "nbconvert_exporter": "python",
   "pygments_lexer": "ipython3",
   "version": "3.11.8"
  }
 },
 "nbformat": 4,
 "nbformat_minor": 5
}
